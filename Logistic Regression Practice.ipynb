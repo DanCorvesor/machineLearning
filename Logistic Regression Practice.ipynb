{
 "cells": [
  {
   "cell_type": "code",
   "execution_count": null,
   "metadata": {},
   "outputs": [],
   "source": [
    "import matplotlib.pyplot as plt\n",
    "import numpy as np\n",
    "from mpl_toolkits import mplot3d\n",
    "import math"
   ]
  },
  {
   "cell_type": "code",
   "execution_count": null,
   "metadata": {},
   "outputs": [],
   "source": [
    "mean = np.array([3.8,120.9,69.1,20.5,79.8,32.0,0.5,33.2])\n",
    "sd = np.array([3.4,32.0,196.4,16.0,115.2,7.9,0.3,11.8])"
   ]
  },
  {
   "cell_type": "code",
   "execution_count": null,
   "metadata": {},
   "outputs": [],
   "source": [
    "f = open(\"pima-indians-diabetes.csv\",\"r\");\n",
    "contents = ' '\n",
    "X = [];\n",
    "Y = [];\n",
    "row_count = 0;\n",
    "while (contents != \"\"):\n",
    "    contents = f.readline();\n",
    "    #print(contents);\n",
    "    if contents == '':\n",
    "        print(contents)\n",
    "        break\n",
    "    temp = contents.split(\",\");   #print(temp);\n",
    "    X.append(1);\n",
    "    for idx,item in enumerate(temp):\n",
    "        if idx != (len(temp) -1):\n",
    "            X.append((float(item)-mean[idx])/sd[idx]);\n",
    "        else:\n",
    "            Y.append(int(item[:1]));\n",
    "    row_count +=1\n",
    "\n",
    "X = np.array(X);\n",
    "X = X.reshape(row_count,9);\n",
    "Y = np.array(Y);\n",
    "Y = Y.reshape(row_count,1)\n",
    "print(row_count);\n",
    "#print(X[:,0]);\n",
    "#print(Y.transpose());"
   ]
  },
  {
   "cell_type": "code",
   "execution_count": 4,
   "metadata": {},
   "outputs": [],
   "source": [
    "def sigmoid(z):\n",
    "    return 1/ (1 + np.exp(-z))"
   ]
  },
  {
   "cell_type": "code",
   "execution_count": 5,
   "metadata": {},
   "outputs": [
    {
     "data": {
      "text/plain": [
       "[<matplotlib.lines.Line2D at 0x20b1ca08f48>]"
      ]
     },
     "execution_count": 5,
     "metadata": {},
     "output_type": "execute_result"
    },
    {
     "data": {
      "image/png": "[encoded data removed]",
      "text/plain": [
       "<Figure size 432x288 with 1 Axes>"
      ]
     },
     "metadata": {
      "needs_background": "light"
     },
     "output_type": "display_data"
    }
   ],
   "source": [
    "x = np.linspace(-5,5,100)\n",
    "plt.plot(x,sigmoid(x),\"r\")"
   ]
  },
  {
   "cell_type": "code",
   "execution_count": 6,
   "metadata": {},
   "outputs": [
    {
     "name": "stdout",
     "output_type": "stream",
     "text": [
      "768\n"
     ]
    }
   ],
   "source": [
    "def h(X,theta):\n",
    "    return sigmoid(X@theta)\n",
    "m = Y.size\n",
    "print(m)"
   ]
  },
  {
   "cell_type": "code",
   "execution_count": 7,
   "metadata": {},
   "outputs": [],
   "source": [
    "def cost(X,Y,theta):\n",
    "    return (-1/m)*(np.transpose(Y)@np.log(h(X,theta))+np.transpose((1-Y))@np.log(1-h(X,theta)))"
   ]
  },
  {
   "cell_type": "code",
   "execution_count": 17,
   "metadata": {},
   "outputs": [],
   "source": [
    "theta = np.random.rand(9,1)"
   ]
  },
  {
   "cell_type": "code",
   "execution_count": 9,
   "metadata": {},
   "outputs": [],
   "source": [
    "a= 0.01\n",
    "cost_list = np.empty(1000)"
   ]
  },
  {
   "cell_type": "code",
   "execution_count": 10,
   "metadata": {},
   "outputs": [
    {
     "name": "stdout",
     "output_type": "stream",
     "text": [
      "[[-0.60089182]\n",
      " [ 0.34480738]\n",
      " [ 0.72593238]\n",
      " [ 0.61910648]\n",
      " [-0.12482083]\n",
      " [ 0.14218697]\n",
      " [ 0.6017911 ]\n",
      " [ 0.260915  ]\n",
      " [ 0.22119472]]\n"
     ]
    }
   ],
   "source": [
    "for i in range(1000):\n",
    "    theta = theta - a/Y.size*np.transpose(X)@(sigmoid(X@theta)-Y)\n",
    "    cost_val = cost(X,Y,theta);\n",
    "    cost_list[i] = cost_val;\n",
    "print(theta);"
   ]
  },
  {
   "cell_type": "code",
   "execution_count": 14,
   "metadata": {},
   "outputs": [
    {
     "data": {
      "text/plain": [
       "[<matplotlib.lines.Line2D at 0x20b1fe9c888>]"
      ]
     },
     "execution_count": 14,
     "metadata": {},
     "output_type": "execute_result"
    },
    {
     "data": {
      "image/png": "[encoded data removed]",
      "text/plain": [
       "<Figure size 432x288 with 1 Axes>"
      ]
     },
     "metadata": {
      "needs_background": "light"
     },
     "output_type": "display_data"
    }
   ],
   "source": [
    "plt.plot(range(1000),cost_list,\"-b\")\n"
   ]
  }
 ],
 "metadata": {
  "kernelspec": {
   "display_name": "Python 3",
   "language": "python",
   "name": "python3"
  },
  "language_info": {
   "codemirror_mode": {
    "name": "ipython",
    "version": 3
   },
   "file_extension": ".py",
   "mimetype": "text/x-python",
   "name": "python",
   "nbconvert_exporter": "python",
   "pygments_lexer": "ipython3",
   "version": "3.7.4"
  }
 },
 "nbformat": 4,
 "nbformat_minor": 2
}
